{
 "cells": [
  {
   "cell_type": "code",
   "execution_count": 1,
   "id": "structural-service",
   "metadata": {
    "execution": {
     "iopub.execute_input": "2021-05-22T11:40:19.630810Z",
     "iopub.status.busy": "2021-05-22T11:40:19.630143Z",
     "iopub.status.idle": "2021-05-22T11:40:21.173178Z",
     "shell.execute_reply": "2021-05-22T11:40:21.173774Z",
     "shell.execute_reply.started": "2021-05-22T11:30:32.746862Z"
    },
    "papermill": {
     "duration": 1.59974,
     "end_time": "2021-05-22T11:40:21.174156",
     "exception": false,
     "start_time": "2021-05-22T11:40:19.574416",
     "status": "completed"
    },
    "tags": []
   },
   "outputs": [],
   "source": [
    "import pandas as pd\n",
    "import numpy as np\n",
    "\n",
    "import matplotlib.pyplot as plt\n",
    "import seaborn as sns\n",
    "\n",
    "from sklearn.model_selection import train_test_split\n",
    "from sklearn.preprocessing import StandardScaler\n",
    "from sklearn.tree import DecisionTreeClassifier\n",
    "from sklearn.ensemble import RandomForestClassifier\n",
    "from sklearn.linear_model import LogisticRegression\n",
    "from sklearn.neighbors import KNeighborsClassifier\n",
    "\n",
    "from sklearn.metrics import confusion_matrix, accuracy_score, f1_score, classification_report\n",
    "\n",
    "import warnings\n",
    "warnings.filterwarnings('ignore')"
   ]
  },
  {
   "cell_type": "code",
   "execution_count": 2,
   "id": "integral-frank",
   "metadata": {
    "execution": {
     "iopub.execute_input": "2021-05-22T11:40:21.275155Z",
     "iopub.status.busy": "2021-05-22T11:40:21.274468Z",
     "iopub.status.idle": "2021-05-22T11:40:25.574198Z",
     "shell.execute_reply": "2021-05-22T11:40:25.573427Z",
     "shell.execute_reply.started": "2021-05-22T11:30:34.111459Z"
    },
    "papermill": {
     "duration": 4.352949,
     "end_time": "2021-05-22T11:40:25.574358",
     "exception": false,
     "start_time": "2021-05-22T11:40:21.221409",
     "status": "completed"
    },
    "tags": []
   },
   "outputs": [],
   "source": [
    "df = pd.read_csv('../input/creditcardfraud/creditcard.csv')"
   ]
  },
  {
   "cell_type": "code",
   "execution_count": 3,
   "id": "black-bunch",
   "metadata": {
    "execution": {
     "iopub.execute_input": "2021-05-22T11:40:25.693178Z",
     "iopub.status.busy": "2021-05-22T11:40:25.692352Z",
     "iopub.status.idle": "2021-05-22T11:40:25.720747Z",
     "shell.execute_reply": "2021-05-22T11:40:25.721290Z",
     "shell.execute_reply.started": "2021-05-22T11:30:37.751928Z"
    },
    "papermill": {
     "duration": 0.09854,
     "end_time": "2021-05-22T11:40:25.721495",
     "exception": false,
     "start_time": "2021-05-22T11:40:25.622955",
     "status": "completed"
    },
    "tags": []
   },
   "outputs": [
    {
     "data": {
      "text/html": [
       "<div>\n",
       "<style scoped>\n",
       "    .dataframe tbody tr th:only-of-type {\n",
       "        vertical-align: middle;\n",
       "    }\n",
       "\n",
       "    .dataframe tbody tr th {\n",
       "        vertical-align: top;\n",
       "    }\n",
       "\n",
       "    .dataframe thead th {\n",
       "        text-align: right;\n",
       "    }\n",
       "</style>\n",
       "<table border=\"1\" class=\"dataframe\">\n",
       "  <thead>\n",
       "    <tr style=\"text-align: right;\">\n",
       "      <th></th>\n",
       "      <th>Time</th>\n",
       "      <th>V1</th>\n",
       "      <th>V2</th>\n",
       "      <th>V3</th>\n",
       "      <th>V4</th>\n",
       "      <th>V5</th>\n",
       "      <th>V6</th>\n",
       "      <th>V7</th>\n",
       "      <th>V8</th>\n",
       "      <th>V9</th>\n",
       "      <th>...</th>\n",
       "      <th>V21</th>\n",
       "      <th>V22</th>\n",
       "      <th>V23</th>\n",
       "      <th>V24</th>\n",
       "      <th>V25</th>\n",
       "      <th>V26</th>\n",
       "      <th>V27</th>\n",
       "      <th>V28</th>\n",
       "      <th>Amount</th>\n",
       "      <th>Class</th>\n",
       "    </tr>\n",
       "  </thead>\n",
       "  <tbody>\n",
       "    <tr>\n",
       "      <th>0</th>\n",
       "      <td>0.0</td>\n",
       "      <td>-1.359807</td>\n",
       "      <td>-0.072781</td>\n",
       "      <td>2.536347</td>\n",
       "      <td>1.378155</td>\n",
       "      <td>-0.338321</td>\n",
       "      <td>0.462388</td>\n",
       "      <td>0.239599</td>\n",
       "      <td>0.098698</td>\n",
       "      <td>0.363787</td>\n",
       "      <td>...</td>\n",
       "      <td>-0.018307</td>\n",
       "      <td>0.277838</td>\n",
       "      <td>-0.110474</td>\n",
       "      <td>0.066928</td>\n",
       "      <td>0.128539</td>\n",
       "      <td>-0.189115</td>\n",
       "      <td>0.133558</td>\n",
       "      <td>-0.021053</td>\n",
       "      <td>149.62</td>\n",
       "      <td>0</td>\n",
       "    </tr>\n",
       "    <tr>\n",
       "      <th>1</th>\n",
       "      <td>0.0</td>\n",
       "      <td>1.191857</td>\n",
       "      <td>0.266151</td>\n",
       "      <td>0.166480</td>\n",
       "      <td>0.448154</td>\n",
       "      <td>0.060018</td>\n",
       "      <td>-0.082361</td>\n",
       "      <td>-0.078803</td>\n",
       "      <td>0.085102</td>\n",
       "      <td>-0.255425</td>\n",
       "      <td>...</td>\n",
       "      <td>-0.225775</td>\n",
       "      <td>-0.638672</td>\n",
       "      <td>0.101288</td>\n",
       "      <td>-0.339846</td>\n",
       "      <td>0.167170</td>\n",
       "      <td>0.125895</td>\n",
       "      <td>-0.008983</td>\n",
       "      <td>0.014724</td>\n",
       "      <td>2.69</td>\n",
       "      <td>0</td>\n",
       "    </tr>\n",
       "    <tr>\n",
       "      <th>2</th>\n",
       "      <td>1.0</td>\n",
       "      <td>-1.358354</td>\n",
       "      <td>-1.340163</td>\n",
       "      <td>1.773209</td>\n",
       "      <td>0.379780</td>\n",
       "      <td>-0.503198</td>\n",
       "      <td>1.800499</td>\n",
       "      <td>0.791461</td>\n",
       "      <td>0.247676</td>\n",
       "      <td>-1.514654</td>\n",
       "      <td>...</td>\n",
       "      <td>0.247998</td>\n",
       "      <td>0.771679</td>\n",
       "      <td>0.909412</td>\n",
       "      <td>-0.689281</td>\n",
       "      <td>-0.327642</td>\n",
       "      <td>-0.139097</td>\n",
       "      <td>-0.055353</td>\n",
       "      <td>-0.059752</td>\n",
       "      <td>378.66</td>\n",
       "      <td>0</td>\n",
       "    </tr>\n",
       "    <tr>\n",
       "      <th>3</th>\n",
       "      <td>1.0</td>\n",
       "      <td>-0.966272</td>\n",
       "      <td>-0.185226</td>\n",
       "      <td>1.792993</td>\n",
       "      <td>-0.863291</td>\n",
       "      <td>-0.010309</td>\n",
       "      <td>1.247203</td>\n",
       "      <td>0.237609</td>\n",
       "      <td>0.377436</td>\n",
       "      <td>-1.387024</td>\n",
       "      <td>...</td>\n",
       "      <td>-0.108300</td>\n",
       "      <td>0.005274</td>\n",
       "      <td>-0.190321</td>\n",
       "      <td>-1.175575</td>\n",
       "      <td>0.647376</td>\n",
       "      <td>-0.221929</td>\n",
       "      <td>0.062723</td>\n",
       "      <td>0.061458</td>\n",
       "      <td>123.50</td>\n",
       "      <td>0</td>\n",
       "    </tr>\n",
       "    <tr>\n",
       "      <th>4</th>\n",
       "      <td>2.0</td>\n",
       "      <td>-1.158233</td>\n",
       "      <td>0.877737</td>\n",
       "      <td>1.548718</td>\n",
       "      <td>0.403034</td>\n",
       "      <td>-0.407193</td>\n",
       "      <td>0.095921</td>\n",
       "      <td>0.592941</td>\n",
       "      <td>-0.270533</td>\n",
       "      <td>0.817739</td>\n",
       "      <td>...</td>\n",
       "      <td>-0.009431</td>\n",
       "      <td>0.798278</td>\n",
       "      <td>-0.137458</td>\n",
       "      <td>0.141267</td>\n",
       "      <td>-0.206010</td>\n",
       "      <td>0.502292</td>\n",
       "      <td>0.219422</td>\n",
       "      <td>0.215153</td>\n",
       "      <td>69.99</td>\n",
       "      <td>0</td>\n",
       "    </tr>\n",
       "  </tbody>\n",
       "</table>\n",
       "<p>5 rows × 31 columns</p>\n",
       "</div>"
      ],
      "text/plain": [
       "   Time        V1        V2        V3        V4        V5        V6        V7  \\\n",
       "0   0.0 -1.359807 -0.072781  2.536347  1.378155 -0.338321  0.462388  0.239599   \n",
       "1   0.0  1.191857  0.266151  0.166480  0.448154  0.060018 -0.082361 -0.078803   \n",
       "2   1.0 -1.358354 -1.340163  1.773209  0.379780 -0.503198  1.800499  0.791461   \n",
       "3   1.0 -0.966272 -0.185226  1.792993 -0.863291 -0.010309  1.247203  0.237609   \n",
       "4   2.0 -1.158233  0.877737  1.548718  0.403034 -0.407193  0.095921  0.592941   \n",
       "\n",
       "         V8        V9  ...       V21       V22       V23       V24       V25  \\\n",
       "0  0.098698  0.363787  ... -0.018307  0.277838 -0.110474  0.066928  0.128539   \n",
       "1  0.085102 -0.255425  ... -0.225775 -0.638672  0.101288 -0.339846  0.167170   \n",
       "2  0.247676 -1.514654  ...  0.247998  0.771679  0.909412 -0.689281 -0.327642   \n",
       "3  0.377436 -1.387024  ... -0.108300  0.005274 -0.190321 -1.175575  0.647376   \n",
       "4 -0.270533  0.817739  ... -0.009431  0.798278 -0.137458  0.141267 -0.206010   \n",
       "\n",
       "        V26       V27       V28  Amount  Class  \n",
       "0 -0.189115  0.133558 -0.021053  149.62      0  \n",
       "1  0.125895 -0.008983  0.014724    2.69      0  \n",
       "2 -0.139097 -0.055353 -0.059752  378.66      0  \n",
       "3 -0.221929  0.062723  0.061458  123.50      0  \n",
       "4  0.502292  0.219422  0.215153   69.99      0  \n",
       "\n",
       "[5 rows x 31 columns]"
      ]
     },
     "execution_count": 3,
     "metadata": {},
     "output_type": "execute_result"
    }
   ],
   "source": [
    "df.head()"
   ]
  },
  {
   "cell_type": "code",
   "execution_count": 4,
   "id": "international-mouth",
   "metadata": {
    "execution": {
     "iopub.execute_input": "2021-05-22T11:40:25.823101Z",
     "iopub.status.busy": "2021-05-22T11:40:25.822283Z",
     "iopub.status.idle": "2021-05-22T11:40:25.826881Z",
     "shell.execute_reply": "2021-05-22T11:40:25.826230Z",
     "shell.execute_reply.started": "2021-05-22T11:30:37.800631Z"
    },
    "papermill": {
     "duration": 0.057367,
     "end_time": "2021-05-22T11:40:25.827091",
     "exception": false,
     "start_time": "2021-05-22T11:40:25.769724",
     "status": "completed"
    },
    "tags": []
   },
   "outputs": [
    {
     "name": "stdout",
     "output_type": "stream",
     "text": [
      "Dataset shape :- \n",
      " (284807, 31)\n"
     ]
    }
   ],
   "source": [
    "print(\"Dataset shape :- \\n\", df.shape)"
   ]
  },
  {
   "cell_type": "code",
   "execution_count": 5,
   "id": "saved-watch",
   "metadata": {
    "execution": {
     "iopub.execute_input": "2021-05-22T11:40:25.960869Z",
     "iopub.status.busy": "2021-05-22T11:40:25.960137Z",
     "iopub.status.idle": "2021-05-22T11:40:25.963436Z",
     "shell.execute_reply": "2021-05-22T11:40:25.962629Z",
     "shell.execute_reply.started": "2021-05-22T11:30:37.810567Z"
    },
    "papermill": {
     "duration": 0.087081,
     "end_time": "2021-05-22T11:40:25.963619",
     "exception": false,
     "start_time": "2021-05-22T11:40:25.876538",
     "status": "completed"
    },
    "tags": []
   },
   "outputs": [],
   "source": [
    "df.drop('Time', axis=1, inplace=True)"
   ]
  },
  {
   "cell_type": "code",
   "execution_count": 6,
   "id": "hollow-familiar",
   "metadata": {
    "execution": {
     "iopub.execute_input": "2021-05-22T11:40:26.086525Z",
     "iopub.status.busy": "2021-05-22T11:40:26.085496Z",
     "iopub.status.idle": "2021-05-22T11:40:26.090582Z",
     "shell.execute_reply": "2021-05-22T11:40:26.089944Z",
     "shell.execute_reply.started": "2021-05-22T11:30:37.848379Z"
    },
    "papermill": {
     "duration": 0.079326,
     "end_time": "2021-05-22T11:40:26.090723",
     "exception": false,
     "start_time": "2021-05-22T11:40:26.011397",
     "status": "completed"
    },
    "tags": []
   },
   "outputs": [
    {
     "data": {
      "text/html": [
       "<div>\n",
       "<style scoped>\n",
       "    .dataframe tbody tr th:only-of-type {\n",
       "        vertical-align: middle;\n",
       "    }\n",
       "\n",
       "    .dataframe tbody tr th {\n",
       "        vertical-align: top;\n",
       "    }\n",
       "\n",
       "    .dataframe thead th {\n",
       "        text-align: right;\n",
       "    }\n",
       "</style>\n",
       "<table border=\"1\" class=\"dataframe\">\n",
       "  <thead>\n",
       "    <tr style=\"text-align: right;\">\n",
       "      <th></th>\n",
       "      <th>V1</th>\n",
       "      <th>V2</th>\n",
       "      <th>V3</th>\n",
       "      <th>V4</th>\n",
       "      <th>V5</th>\n",
       "      <th>V6</th>\n",
       "      <th>V7</th>\n",
       "      <th>V8</th>\n",
       "      <th>V9</th>\n",
       "      <th>V10</th>\n",
       "      <th>...</th>\n",
       "      <th>V21</th>\n",
       "      <th>V22</th>\n",
       "      <th>V23</th>\n",
       "      <th>V24</th>\n",
       "      <th>V25</th>\n",
       "      <th>V26</th>\n",
       "      <th>V27</th>\n",
       "      <th>V28</th>\n",
       "      <th>Amount</th>\n",
       "      <th>Class</th>\n",
       "    </tr>\n",
       "  </thead>\n",
       "  <tbody>\n",
       "    <tr>\n",
       "      <th>0</th>\n",
       "      <td>-1.359807</td>\n",
       "      <td>-0.072781</td>\n",
       "      <td>2.536347</td>\n",
       "      <td>1.378155</td>\n",
       "      <td>-0.338321</td>\n",
       "      <td>0.462388</td>\n",
       "      <td>0.239599</td>\n",
       "      <td>0.098698</td>\n",
       "      <td>0.363787</td>\n",
       "      <td>0.090794</td>\n",
       "      <td>...</td>\n",
       "      <td>-0.018307</td>\n",
       "      <td>0.277838</td>\n",
       "      <td>-0.110474</td>\n",
       "      <td>0.066928</td>\n",
       "      <td>0.128539</td>\n",
       "      <td>-0.189115</td>\n",
       "      <td>0.133558</td>\n",
       "      <td>-0.021053</td>\n",
       "      <td>149.62</td>\n",
       "      <td>0</td>\n",
       "    </tr>\n",
       "    <tr>\n",
       "      <th>1</th>\n",
       "      <td>1.191857</td>\n",
       "      <td>0.266151</td>\n",
       "      <td>0.166480</td>\n",
       "      <td>0.448154</td>\n",
       "      <td>0.060018</td>\n",
       "      <td>-0.082361</td>\n",
       "      <td>-0.078803</td>\n",
       "      <td>0.085102</td>\n",
       "      <td>-0.255425</td>\n",
       "      <td>-0.166974</td>\n",
       "      <td>...</td>\n",
       "      <td>-0.225775</td>\n",
       "      <td>-0.638672</td>\n",
       "      <td>0.101288</td>\n",
       "      <td>-0.339846</td>\n",
       "      <td>0.167170</td>\n",
       "      <td>0.125895</td>\n",
       "      <td>-0.008983</td>\n",
       "      <td>0.014724</td>\n",
       "      <td>2.69</td>\n",
       "      <td>0</td>\n",
       "    </tr>\n",
       "    <tr>\n",
       "      <th>2</th>\n",
       "      <td>-1.358354</td>\n",
       "      <td>-1.340163</td>\n",
       "      <td>1.773209</td>\n",
       "      <td>0.379780</td>\n",
       "      <td>-0.503198</td>\n",
       "      <td>1.800499</td>\n",
       "      <td>0.791461</td>\n",
       "      <td>0.247676</td>\n",
       "      <td>-1.514654</td>\n",
       "      <td>0.207643</td>\n",
       "      <td>...</td>\n",
       "      <td>0.247998</td>\n",
       "      <td>0.771679</td>\n",
       "      <td>0.909412</td>\n",
       "      <td>-0.689281</td>\n",
       "      <td>-0.327642</td>\n",
       "      <td>-0.139097</td>\n",
       "      <td>-0.055353</td>\n",
       "      <td>-0.059752</td>\n",
       "      <td>378.66</td>\n",
       "      <td>0</td>\n",
       "    </tr>\n",
       "    <tr>\n",
       "      <th>3</th>\n",
       "      <td>-0.966272</td>\n",
       "      <td>-0.185226</td>\n",
       "      <td>1.792993</td>\n",
       "      <td>-0.863291</td>\n",
       "      <td>-0.010309</td>\n",
       "      <td>1.247203</td>\n",
       "      <td>0.237609</td>\n",
       "      <td>0.377436</td>\n",
       "      <td>-1.387024</td>\n",
       "      <td>-0.054952</td>\n",
       "      <td>...</td>\n",
       "      <td>-0.108300</td>\n",
       "      <td>0.005274</td>\n",
       "      <td>-0.190321</td>\n",
       "      <td>-1.175575</td>\n",
       "      <td>0.647376</td>\n",
       "      <td>-0.221929</td>\n",
       "      <td>0.062723</td>\n",
       "      <td>0.061458</td>\n",
       "      <td>123.50</td>\n",
       "      <td>0</td>\n",
       "    </tr>\n",
       "    <tr>\n",
       "      <th>4</th>\n",
       "      <td>-1.158233</td>\n",
       "      <td>0.877737</td>\n",
       "      <td>1.548718</td>\n",
       "      <td>0.403034</td>\n",
       "      <td>-0.407193</td>\n",
       "      <td>0.095921</td>\n",
       "      <td>0.592941</td>\n",
       "      <td>-0.270533</td>\n",
       "      <td>0.817739</td>\n",
       "      <td>0.753074</td>\n",
       "      <td>...</td>\n",
       "      <td>-0.009431</td>\n",
       "      <td>0.798278</td>\n",
       "      <td>-0.137458</td>\n",
       "      <td>0.141267</td>\n",
       "      <td>-0.206010</td>\n",
       "      <td>0.502292</td>\n",
       "      <td>0.219422</td>\n",
       "      <td>0.215153</td>\n",
       "      <td>69.99</td>\n",
       "      <td>0</td>\n",
       "    </tr>\n",
       "  </tbody>\n",
       "</table>\n",
       "<p>5 rows × 30 columns</p>\n",
       "</div>"
      ],
      "text/plain": [
       "         V1        V2        V3        V4        V5        V6        V7  \\\n",
       "0 -1.359807 -0.072781  2.536347  1.378155 -0.338321  0.462388  0.239599   \n",
       "1  1.191857  0.266151  0.166480  0.448154  0.060018 -0.082361 -0.078803   \n",
       "2 -1.358354 -1.340163  1.773209  0.379780 -0.503198  1.800499  0.791461   \n",
       "3 -0.966272 -0.185226  1.792993 -0.863291 -0.010309  1.247203  0.237609   \n",
       "4 -1.158233  0.877737  1.548718  0.403034 -0.407193  0.095921  0.592941   \n",
       "\n",
       "         V8        V9       V10  ...       V21       V22       V23       V24  \\\n",
       "0  0.098698  0.363787  0.090794  ... -0.018307  0.277838 -0.110474  0.066928   \n",
       "1  0.085102 -0.255425 -0.166974  ... -0.225775 -0.638672  0.101288 -0.339846   \n",
       "2  0.247676 -1.514654  0.207643  ...  0.247998  0.771679  0.909412 -0.689281   \n",
       "3  0.377436 -1.387024 -0.054952  ... -0.108300  0.005274 -0.190321 -1.175575   \n",
       "4 -0.270533  0.817739  0.753074  ... -0.009431  0.798278 -0.137458  0.141267   \n",
       "\n",
       "        V25       V26       V27       V28  Amount  Class  \n",
       "0  0.128539 -0.189115  0.133558 -0.021053  149.62      0  \n",
       "1  0.167170  0.125895 -0.008983  0.014724    2.69      0  \n",
       "2 -0.327642 -0.139097 -0.055353 -0.059752  378.66      0  \n",
       "3  0.647376 -0.221929  0.062723  0.061458  123.50      0  \n",
       "4 -0.206010  0.502292  0.219422  0.215153   69.99      0  \n",
       "\n",
       "[5 rows x 30 columns]"
      ]
     },
     "execution_count": 6,
     "metadata": {},
     "output_type": "execute_result"
    }
   ],
   "source": [
    "df.head()"
   ]
  },
  {
   "cell_type": "code",
   "execution_count": 7,
   "id": "pleasant-thunder",
   "metadata": {
    "execution": {
     "iopub.execute_input": "2021-05-22T11:40:26.198408Z",
     "iopub.status.busy": "2021-05-22T11:40:26.197574Z",
     "iopub.status.idle": "2021-05-22T11:40:26.265381Z",
     "shell.execute_reply": "2021-05-22T11:40:26.264770Z",
     "shell.execute_reply.started": "2021-05-22T11:30:37.881437Z"
    },
    "papermill": {
     "duration": 0.123988,
     "end_time": "2021-05-22T11:40:26.265555",
     "exception": false,
     "start_time": "2021-05-22T11:40:26.141567",
     "status": "completed"
    },
    "tags": []
   },
   "outputs": [
    {
     "name": "stdout",
     "output_type": "stream",
     "text": [
      "Cases\n",
      "---------------------------\n",
      "Total Fraud_count is:- 284315\n",
      "Total Non-Fraud_count is:- 492\n"
     ]
    }
   ],
   "source": [
    "fraud_count = len(df[df.Class == 0])\n",
    "nonfraud_count = len(df[df.Class == 1])\n",
    "fraud_percentage = round(fraud_count/nonfraud_count)*100\n",
    "\n",
    "print('Cases')\n",
    "print('---------------------------')\n",
    "print('Total Fraud_count is:-', fraud_count)\n",
    "print('Total Non-Fraud_count is:-', nonfraud_count)"
   ]
  },
  {
   "cell_type": "code",
   "execution_count": 8,
   "id": "personal-kazakhstan",
   "metadata": {
    "execution": {
     "iopub.execute_input": "2021-05-22T11:40:26.371653Z",
     "iopub.status.busy": "2021-05-22T11:40:26.370613Z",
     "iopub.status.idle": "2021-05-22T11:40:26.426403Z",
     "shell.execute_reply": "2021-05-22T11:40:26.426985Z",
     "shell.execute_reply.started": "2021-05-22T11:30:37.948129Z"
    },
    "papermill": {
     "duration": 0.112753,
     "end_time": "2021-05-22T11:40:26.427223",
     "exception": false,
     "start_time": "2021-05-22T11:40:26.314470",
     "status": "completed"
    },
    "tags": []
   },
   "outputs": [
    {
     "name": "stdout",
     "output_type": "stream",
     "text": [
      "False Detection Class\n",
      "---------------------\n",
      "count     492.000000\n",
      "mean      122.211321\n",
      "std       256.683288\n",
      "min         0.000000\n",
      "25%         1.000000\n",
      "50%         9.250000\n",
      "75%       105.890000\n",
      "max      2125.870000\n",
      "Name: Amount, dtype: float64 \n",
      "\n",
      "False Detection Class\n",
      "---------------------\n",
      "count    284315.000000\n",
      "mean         88.291022\n",
      "std         250.105092\n",
      "min           0.000000\n",
      "25%           5.650000\n",
      "50%          22.000000\n",
      "75%          77.050000\n",
      "max       25691.160000\n",
      "Name: Amount, dtype: float64 \n",
      "\n"
     ]
    }
   ],
   "source": [
    "false = df[df['Class']==1]\n",
    "true = df[df['Class']==0]\n",
    "\n",
    "#false detection case\n",
    "\n",
    "print('False Detection Class')\n",
    "print(\"---------------------\")\n",
    "print(false.Amount.describe(), \"\\n\")\n",
    "\n",
    "#true detection case\n",
    "\n",
    "print('False Detection Class')\n",
    "print(\"---------------------\")\n",
    "print(true.Amount.describe(), \"\\n\")"
   ]
  },
  {
   "cell_type": "code",
   "execution_count": 9,
   "id": "abroad-dream",
   "metadata": {
    "execution": {
     "iopub.execute_input": "2021-05-22T11:40:26.532541Z",
     "iopub.status.busy": "2021-05-22T11:40:26.531741Z",
     "iopub.status.idle": "2021-05-22T11:40:26.537555Z",
     "shell.execute_reply": "2021-05-22T11:40:26.536954Z",
     "shell.execute_reply.started": "2021-05-22T11:30:38.008394Z"
    },
    "papermill": {
     "duration": 0.059326,
     "end_time": "2021-05-22T11:40:26.537725",
     "exception": false,
     "start_time": "2021-05-22T11:40:26.478399",
     "status": "completed"
    },
    "tags": []
   },
   "outputs": [
    {
     "name": "stdout",
     "output_type": "stream",
     "text": [
      "Columns or Feature names :- Index(['V1', 'V2', 'V3', 'V4', 'V5', 'V6', 'V7', 'V8', 'V9', 'V10', 'V11',\n",
      "       'V12', 'V13', 'V14', 'V15', 'V16', 'V17', 'V18', 'V19', 'V20', 'V21',\n",
      "       'V22', 'V23', 'V24', 'V25', 'V26', 'V27', 'V28', 'Amount', 'Class'],\n",
      "      dtype='object')\n"
     ]
    }
   ],
   "source": [
    "#check columns\n",
    "\n",
    "print(\"Columns or Feature names :-\", df.columns)"
   ]
  },
  {
   "cell_type": "code",
   "execution_count": 10,
   "id": "selected-track",
   "metadata": {
    "execution": {
     "iopub.execute_input": "2021-05-22T11:40:26.647459Z",
     "iopub.status.busy": "2021-05-22T11:40:26.646766Z",
     "iopub.status.idle": "2021-05-22T11:40:26.654029Z",
     "shell.execute_reply": "2021-05-22T11:40:26.653476Z",
     "shell.execute_reply.started": "2021-05-22T11:30:38.014794Z"
    },
    "papermill": {
     "duration": 0.065044,
     "end_time": "2021-05-22T11:40:26.654178",
     "exception": false,
     "start_time": "2021-05-22T11:40:26.589134",
     "status": "completed"
    },
    "tags": []
   },
   "outputs": [
    {
     "name": "stdout",
     "output_type": "stream",
     "text": [
      "Unique values of target variable :- [0 1]\n"
     ]
    }
   ],
   "source": [
    "#check unique values of target variable\n",
    "\n",
    "print(\"Unique values of target variable :-\", df['Class'].unique())"
   ]
  },
  {
   "cell_type": "markdown",
   "id": "center-lingerie",
   "metadata": {
    "papermill": {
     "duration": 0.049499,
     "end_time": "2021-05-22T11:40:26.753174",
     "exception": false,
     "start_time": "2021-05-22T11:40:26.703675",
     "status": "completed"
    },
    "tags": []
   },
   "source": [
    "The target variable Class has 0 and 1 values. Here\n",
    "\n",
    "* 0 for **non-fraudulent** transactions\n",
    "* 1 for **fraudulent** transactions"
   ]
  },
  {
   "cell_type": "code",
   "execution_count": 11,
   "id": "infinite-launch",
   "metadata": {
    "execution": {
     "iopub.execute_input": "2021-05-22T11:40:26.887400Z",
     "iopub.status.busy": "2021-05-22T11:40:26.886693Z",
     "iopub.status.idle": "2021-05-22T11:40:26.897689Z",
     "shell.execute_reply": "2021-05-22T11:40:26.897051Z",
     "shell.execute_reply.started": "2021-05-22T11:30:38.032402Z"
    },
    "papermill": {
     "duration": 0.082728,
     "end_time": "2021-05-22T11:40:26.897830",
     "exception": false,
     "start_time": "2021-05-22T11:40:26.815102",
     "status": "completed"
    },
    "tags": []
   },
   "outputs": [
    {
     "name": "stdout",
     "output_type": "stream",
     "text": [
      "Number of sample under each target value :- \n",
      " 0    284315\n",
      "1       492\n",
      "Name: Class, dtype: int64\n"
     ]
    }
   ],
   "source": [
    "#check number of samples under target column\n",
    "\n",
    "print(\"Number of sample under each target value :- \\n\",df['Class'].value_counts())"
   ]
  },
  {
   "cell_type": "code",
   "execution_count": 12,
   "id": "english-messaging",
   "metadata": {
    "execution": {
     "iopub.execute_input": "2021-05-22T11:40:27.013629Z",
     "iopub.status.busy": "2021-05-22T11:40:27.012962Z",
     "iopub.status.idle": "2021-05-22T11:40:27.048730Z",
     "shell.execute_reply": "2021-05-22T11:40:27.049359Z",
     "shell.execute_reply.started": "2021-05-22T11:30:38.047616Z"
    },
    "papermill": {
     "duration": 0.098287,
     "end_time": "2021-05-22T11:40:27.049546",
     "exception": false,
     "start_time": "2021-05-22T11:40:26.951259",
     "status": "completed"
    },
    "tags": []
   },
   "outputs": [
    {
     "data": {
      "text/plain": [
       "V1        0\n",
       "V2        0\n",
       "V3        0\n",
       "V4        0\n",
       "V5        0\n",
       "V6        0\n",
       "V7        0\n",
       "V8        0\n",
       "V9        0\n",
       "V10       0\n",
       "V11       0\n",
       "V12       0\n",
       "V13       0\n",
       "V14       0\n",
       "V15       0\n",
       "V16       0\n",
       "V17       0\n",
       "V18       0\n",
       "V19       0\n",
       "V20       0\n",
       "V21       0\n",
       "V22       0\n",
       "V23       0\n",
       "V24       0\n",
       "V25       0\n",
       "V26       0\n",
       "V27       0\n",
       "V28       0\n",
       "Amount    0\n",
       "Class     0\n",
       "dtype: int64"
      ]
     },
     "execution_count": 12,
     "metadata": {},
     "output_type": "execute_result"
    }
   ],
   "source": [
    "#Checking null values\n",
    "\n",
    "df.isnull().sum()"
   ]
  },
  {
   "cell_type": "markdown",
   "id": "possible-coordinator",
   "metadata": {
    "papermill": {
     "duration": 0.050996,
     "end_time": "2021-05-22T11:40:27.164528",
     "exception": false,
     "start_time": "2021-05-22T11:40:27.113532",
     "status": "completed"
    },
    "tags": []
   },
   "source": [
    "### Data Transformation"
   ]
  },
  {
   "cell_type": "code",
   "execution_count": 13,
   "id": "daily-invasion",
   "metadata": {
    "execution": {
     "iopub.execute_input": "2021-05-22T11:40:27.274554Z",
     "iopub.status.busy": "2021-05-22T11:40:27.273094Z",
     "iopub.status.idle": "2021-05-22T11:40:27.285166Z",
     "shell.execute_reply": "2021-05-22T11:40:27.284408Z",
     "shell.execute_reply.started": "2021-05-22T11:30:38.074269Z"
    },
    "papermill": {
     "duration": 0.06987,
     "end_time": "2021-05-22T11:40:27.285343",
     "exception": false,
     "start_time": "2021-05-22T11:40:27.215473",
     "status": "completed"
    },
    "tags": []
   },
   "outputs": [],
   "source": [
    "sc = StandardScaler()\n",
    "amount = df['Amount'].values\n",
    "\n",
    "df['Amount'] = sc.fit_transform(amount.reshape(-1,1))"
   ]
  },
  {
   "cell_type": "code",
   "execution_count": 14,
   "id": "explicit-wallet",
   "metadata": {
    "execution": {
     "iopub.execute_input": "2021-05-22T11:40:27.396405Z",
     "iopub.status.busy": "2021-05-22T11:40:27.395591Z",
     "iopub.status.idle": "2021-05-22T11:40:27.399174Z",
     "shell.execute_reply": "2021-05-22T11:40:27.400118Z",
     "shell.execute_reply.started": "2021-05-22T11:30:38.088729Z"
    },
    "papermill": {
     "duration": 0.063644,
     "end_time": "2021-05-22T11:40:27.400390",
     "exception": false,
     "start_time": "2021-05-22T11:40:27.336746",
     "status": "completed"
    },
    "tags": []
   },
   "outputs": [
    {
     "name": "stdout",
     "output_type": "stream",
     "text": [
      "0    0.244964\n",
      "1   -0.342475\n",
      "2    1.160686\n",
      "3    0.140534\n",
      "4   -0.073403\n",
      "Name: Amount, dtype: float64\n"
     ]
    }
   ],
   "source": [
    "print(df['Amount'].head())"
   ]
  },
  {
   "cell_type": "markdown",
   "id": "separated-custom",
   "metadata": {
    "papermill": {
     "duration": 0.050565,
     "end_time": "2021-05-22T11:40:27.502364",
     "exception": false,
     "start_time": "2021-05-22T11:40:27.451799",
     "status": "completed"
    },
    "tags": []
   },
   "source": [
    "## Splitting Dataset"
   ]
  },
  {
   "cell_type": "code",
   "execution_count": 15,
   "id": "excellent-compilation",
   "metadata": {
    "execution": {
     "iopub.execute_input": "2021-05-22T11:40:27.651198Z",
     "iopub.status.busy": "2021-05-22T11:40:27.650222Z",
     "iopub.status.idle": "2021-05-22T11:40:27.654429Z",
     "shell.execute_reply": "2021-05-22T11:40:27.653755Z",
     "shell.execute_reply.started": "2021-05-22T11:30:38.097350Z"
    },
    "papermill": {
     "duration": 0.100254,
     "end_time": "2021-05-22T11:40:27.654581",
     "exception": false,
     "start_time": "2021-05-22T11:40:27.554327",
     "status": "completed"
    },
    "tags": []
   },
   "outputs": [],
   "source": [
    "X = df.drop('Class', axis=1).values\n",
    "y = df['Class'].values"
   ]
  },
  {
   "cell_type": "code",
   "execution_count": 16,
   "id": "organic-slope",
   "metadata": {
    "execution": {
     "iopub.execute_input": "2021-05-22T11:40:27.762354Z",
     "iopub.status.busy": "2021-05-22T11:40:27.761396Z",
     "iopub.status.idle": "2021-05-22T11:40:27.892513Z",
     "shell.execute_reply": "2021-05-22T11:40:27.891959Z",
     "shell.execute_reply.started": "2021-05-22T11:30:38.137730Z"
    },
    "papermill": {
     "duration": 0.187425,
     "end_time": "2021-05-22T11:40:27.892665",
     "exception": false,
     "start_time": "2021-05-22T11:40:27.705240",
     "status": "completed"
    },
    "tags": []
   },
   "outputs": [],
   "source": [
    "X_train, X_test, y_train, y_test = train_test_split(X,y, test_size=0.20, random_state=0)"
   ]
  },
  {
   "cell_type": "code",
   "execution_count": 17,
   "id": "found-counter",
   "metadata": {
    "execution": {
     "iopub.execute_input": "2021-05-22T11:40:28.000316Z",
     "iopub.status.busy": "2021-05-22T11:40:27.999547Z",
     "iopub.status.idle": "2021-05-22T11:40:28.004699Z",
     "shell.execute_reply": "2021-05-22T11:40:28.004184Z",
     "shell.execute_reply.started": "2021-05-22T11:30:38.266039Z"
    },
    "papermill": {
     "duration": 0.061587,
     "end_time": "2021-05-22T11:40:28.004848",
     "exception": false,
     "start_time": "2021-05-22T11:40:27.943261",
     "status": "completed"
    },
    "tags": []
   },
   "outputs": [
    {
     "name": "stdout",
     "output_type": "stream",
     "text": [
      "X_train Samples :- [[-1.11504743  1.03558276  0.80071244 -1.06039825  0.03262117  0.85342216\n",
      "  -0.61424348 -3.23116112  1.53994798 -0.81690879 -1.30559201  0.1081772\n",
      "  -0.85960958 -0.07193421  0.90665563 -1.72092961  0.79785322 -0.0067594\n",
      "   1.95677806 -0.64489556  3.02038533 -0.53961798  0.03315649 -0.77494577\n",
      "   0.10586781 -0.43085348  0.22973694 -0.0705913  -0.30145418]]\n"
     ]
    }
   ],
   "source": [
    "print('X_train Samples :-', X_train[:1])"
   ]
  },
  {
   "cell_type": "code",
   "execution_count": 18,
   "id": "certified-ladder",
   "metadata": {
    "execution": {
     "iopub.execute_input": "2021-05-22T11:40:28.115655Z",
     "iopub.status.busy": "2021-05-22T11:40:28.114674Z",
     "iopub.status.idle": "2021-05-22T11:40:28.120435Z",
     "shell.execute_reply": "2021-05-22T11:40:28.119667Z",
     "shell.execute_reply.started": "2021-05-22T11:30:38.274113Z"
    },
    "papermill": {
     "duration": 0.064338,
     "end_time": "2021-05-22T11:40:28.120656",
     "exception": false,
     "start_time": "2021-05-22T11:40:28.056318",
     "status": "completed"
    },
    "tags": []
   },
   "outputs": [
    {
     "name": "stdout",
     "output_type": "stream",
     "text": [
      "X_test Samples :- [[-1.11504743  1.03558276  0.80071244 -1.06039825  0.03262117  0.85342216\n",
      "  -0.61424348 -3.23116112  1.53994798 -0.81690879 -1.30559201  0.1081772\n",
      "  -0.85960958 -0.07193421  0.90665563 -1.72092961  0.79785322 -0.0067594\n",
      "   1.95677806 -0.64489556  3.02038533 -0.53961798  0.03315649 -0.77494577\n",
      "   0.10586781 -0.43085348  0.22973694 -0.0705913  -0.30145418]]\n"
     ]
    }
   ],
   "source": [
    "print('X_test Samples :-', X_train[0:1])"
   ]
  },
  {
   "cell_type": "code",
   "execution_count": 19,
   "id": "stopped-industry",
   "metadata": {
    "execution": {
     "iopub.execute_input": "2021-05-22T11:40:28.231676Z",
     "iopub.status.busy": "2021-05-22T11:40:28.230714Z",
     "iopub.status.idle": "2021-05-22T11:40:28.235086Z",
     "shell.execute_reply": "2021-05-22T11:40:28.234449Z",
     "shell.execute_reply.started": "2021-05-22T11:30:38.287095Z"
    },
    "papermill": {
     "duration": 0.06204,
     "end_time": "2021-05-22T11:40:28.235230",
     "exception": false,
     "start_time": "2021-05-22T11:40:28.173190",
     "status": "completed"
    },
    "tags": []
   },
   "outputs": [
    {
     "name": "stdout",
     "output_type": "stream",
     "text": [
      "y_train Samples :- [0 0 0 0 0 0 0 0 0 0 0 0 0 0 0 0 0 0 0 0]\n"
     ]
    }
   ],
   "source": [
    "print('y_train Samples :-', y_train[0:20])"
   ]
  },
  {
   "cell_type": "code",
   "execution_count": 20,
   "id": "rotary-chinese",
   "metadata": {
    "execution": {
     "iopub.execute_input": "2021-05-22T11:40:28.344450Z",
     "iopub.status.busy": "2021-05-22T11:40:28.343527Z",
     "iopub.status.idle": "2021-05-22T11:40:28.348728Z",
     "shell.execute_reply": "2021-05-22T11:40:28.348042Z",
     "shell.execute_reply.started": "2021-05-22T11:30:38.303595Z"
    },
    "papermill": {
     "duration": 0.06233,
     "end_time": "2021-05-22T11:40:28.348943",
     "exception": false,
     "start_time": "2021-05-22T11:40:28.286613",
     "status": "completed"
    },
    "tags": []
   },
   "outputs": [
    {
     "name": "stdout",
     "output_type": "stream",
     "text": [
      "y_test Samples :- [0 0 0 0 0 0 0 0 0 0 0 0 0 0 0 0 0 0 0 0]\n"
     ]
    }
   ],
   "source": [
    "print('y_test Samples :-', y_test[0:20])"
   ]
  },
  {
   "cell_type": "code",
   "execution_count": 21,
   "id": "oriental-citizen",
   "metadata": {
    "execution": {
     "iopub.execute_input": "2021-05-22T11:40:28.463214Z",
     "iopub.status.busy": "2021-05-22T11:40:28.462467Z",
     "iopub.status.idle": "2021-05-22T11:40:28.468945Z",
     "shell.execute_reply": "2021-05-22T11:40:28.468232Z",
     "shell.execute_reply.started": "2021-05-22T11:30:38.314884Z"
    },
    "papermill": {
     "duration": 0.066079,
     "end_time": "2021-05-22T11:40:28.469257",
     "exception": false,
     "start_time": "2021-05-22T11:40:28.403178",
     "status": "completed"
    },
    "tags": []
   },
   "outputs": [
    {
     "name": "stdout",
     "output_type": "stream",
     "text": [
      "Shape of X_Train dataset\n",
      "----------------------\n",
      "(227845, 29)\n",
      "Shape of y_Train dataset\n",
      "----------------------\n",
      "(227845,)\n",
      "Shape of X_Test dataset\n",
      "----------------------\n",
      "(56962, 29)\n",
      "Shape of y_Test dataset\n",
      "----------------------\n",
      "(56962,)\n"
     ]
    }
   ],
   "source": [
    "print('Shape of X_Train dataset')\n",
    "print('----------------------')\n",
    "print(X_train.shape)\n",
    "\n",
    "print('Shape of y_Train dataset')\n",
    "print('----------------------')\n",
    "print(y_train.shape)\n",
    "\n",
    "\n",
    "print('Shape of X_Test dataset')\n",
    "print('----------------------')\n",
    "print(X_test.shape)\n",
    "\n",
    "print('Shape of y_Test dataset')\n",
    "print('----------------------')\n",
    "print(y_test.shape)\n"
   ]
  },
  {
   "cell_type": "markdown",
   "id": "german-tackle",
   "metadata": {
    "papermill": {
     "duration": 0.051782,
     "end_time": "2021-05-22T11:40:28.574202",
     "exception": false,
     "start_time": "2021-05-22T11:40:28.522420",
     "status": "completed"
    },
    "tags": []
   },
   "source": [
    "## Modeling"
   ]
  },
  {
   "cell_type": "markdown",
   "id": "representative-drama",
   "metadata": {
    "papermill": {
     "duration": 0.052631,
     "end_time": "2021-05-22T11:40:28.678959",
     "exception": false,
     "start_time": "2021-05-22T11:40:28.626328",
     "status": "completed"
    },
    "tags": []
   },
   "source": [
    "1. Decision Tree"
   ]
  },
  {
   "cell_type": "code",
   "execution_count": 22,
   "id": "fallen-reset",
   "metadata": {
    "execution": {
     "iopub.execute_input": "2021-05-22T11:40:28.790262Z",
     "iopub.status.busy": "2021-05-22T11:40:28.789543Z",
     "iopub.status.idle": "2021-05-22T11:40:37.991271Z",
     "shell.execute_reply": "2021-05-22T11:40:37.990605Z",
     "shell.execute_reply.started": "2021-05-22T11:30:38.327952Z"
    },
    "papermill": {
     "duration": 9.260436,
     "end_time": "2021-05-22T11:40:37.991443",
     "exception": false,
     "start_time": "2021-05-22T11:40:28.731007",
     "status": "completed"
    },
    "tags": []
   },
   "outputs": [],
   "source": [
    "tree_model = DecisionTreeClassifier(max_depth=5, criterion='entropy')\n",
    "tree_model.fit(X_train, y_train)\n",
    "tree_pred = tree_model.predict(X_test)"
   ]
  },
  {
   "cell_type": "code",
   "execution_count": 23,
   "id": "brief-cargo",
   "metadata": {
    "execution": {
     "iopub.execute_input": "2021-05-22T11:40:38.105674Z",
     "iopub.status.busy": "2021-05-22T11:40:38.104987Z",
     "iopub.status.idle": "2021-05-22T11:40:38.111636Z",
     "shell.execute_reply": "2021-05-22T11:40:38.112367Z",
     "shell.execute_reply.started": "2021-05-22T11:30:47.242005Z"
    },
    "papermill": {
     "duration": 0.067486,
     "end_time": "2021-05-22T11:40:38.112611",
     "exception": false,
     "start_time": "2021-05-22T11:40:38.045125",
     "status": "completed"
    },
    "tags": []
   },
   "outputs": [
    {
     "name": "stdout",
     "output_type": "stream",
     "text": [
      "-----------Accuracy Score-----------\n",
      "Accuracy score of the decision tree 0.9993504441557529\n"
     ]
    }
   ],
   "source": [
    "print('-----------Accuracy Score-----------')\n",
    "print('Accuracy score of the decision tree', (accuracy_score(y_test, tree_pred)))"
   ]
  },
  {
   "cell_type": "code",
   "execution_count": 24,
   "id": "planned-anthropology",
   "metadata": {
    "execution": {
     "iopub.execute_input": "2021-05-22T11:40:38.227887Z",
     "iopub.status.busy": "2021-05-22T11:40:38.227175Z",
     "iopub.status.idle": "2021-05-22T11:40:38.247017Z",
     "shell.execute_reply": "2021-05-22T11:40:38.246411Z",
     "shell.execute_reply.started": "2021-05-22T11:30:47.252730Z"
    },
    "papermill": {
     "duration": 0.080706,
     "end_time": "2021-05-22T11:40:38.247195",
     "exception": false,
     "start_time": "2021-05-22T11:40:38.166489",
     "status": "completed"
    },
    "tags": []
   },
   "outputs": [
    {
     "name": "stdout",
     "output_type": "stream",
     "text": [
      "-----------F1 Score-----------\n",
      "F1 score of the decision tree 0.8\n"
     ]
    }
   ],
   "source": [
    "print('-----------F1 Score-----------')\n",
    "print('F1 score of the decision tree', (f1_score(y_test, tree_pred)))"
   ]
  },
  {
   "cell_type": "code",
   "execution_count": 25,
   "id": "current-fitting",
   "metadata": {
    "execution": {
     "iopub.execute_input": "2021-05-22T11:40:38.359955Z",
     "iopub.status.busy": "2021-05-22T11:40:38.359224Z",
     "iopub.status.idle": "2021-05-22T11:40:38.441482Z",
     "shell.execute_reply": "2021-05-22T11:40:38.440930Z",
     "shell.execute_reply.started": "2021-05-22T11:30:47.276577Z"
    },
    "papermill": {
     "duration": 0.140833,
     "end_time": "2021-05-22T11:40:38.441644",
     "exception": false,
     "start_time": "2021-05-22T11:40:38.300811",
     "status": "completed"
    },
    "tags": []
   },
   "outputs": [
    {
     "name": "stdout",
     "output_type": "stream",
     "text": [
      "-----------Confusion Matrix-----------\n",
      "Confusion Matrix of the decision tree :- \n",
      " [[56851    10]\n",
      " [   27    74]]\n"
     ]
    }
   ],
   "source": [
    "print('-----------Confusion Matrix-----------')\n",
    "print('Confusion Matrix of the decision tree :- \\n', (confusion_matrix(y_test, tree_pred)))"
   ]
  },
  {
   "cell_type": "code",
   "execution_count": 26,
   "id": "documentary-mixture",
   "metadata": {
    "execution": {
     "iopub.execute_input": "2021-05-22T11:40:38.556067Z",
     "iopub.status.busy": "2021-05-22T11:40:38.555379Z",
     "iopub.status.idle": "2021-05-22T11:40:38.902146Z",
     "shell.execute_reply": "2021-05-22T11:40:38.901567Z",
     "shell.execute_reply.started": "2021-05-22T11:30:47.361300Z"
    },
    "papermill": {
     "duration": 0.405804,
     "end_time": "2021-05-22T11:40:38.902313",
     "exception": false,
     "start_time": "2021-05-22T11:40:38.496509",
     "status": "completed"
    },
    "tags": []
   },
   "outputs": [
    {
     "data": {
      "image/png": "[encoded data removed]",
      "text/plain": [
       "<Figure size 432x288 with 2 Axes>"
      ]
     },
     "metadata": {
      "needs_background": "light"
     },
     "output_type": "display_data"
    }
   ],
   "source": [
    "cm = confusion_matrix(y_test, tree_pred)\n",
    "fig, ax = plt.subplots(figsize=(6,4))\n",
    "sns.heatmap(cm, annot=True)\n",
    "plt.show()"
   ]
  },
  {
   "cell_type": "code",
   "execution_count": 27,
   "id": "assisted-surprise",
   "metadata": {
    "execution": {
     "iopub.execute_input": "2021-05-22T11:40:39.018262Z",
     "iopub.status.busy": "2021-05-22T11:40:39.017514Z",
     "iopub.status.idle": "2021-05-22T11:40:39.078993Z",
     "shell.execute_reply": "2021-05-22T11:40:39.078397Z",
     "shell.execute_reply.started": "2021-05-22T11:30:47.684332Z"
    },
    "papermill": {
     "duration": 0.12178,
     "end_time": "2021-05-22T11:40:39.079148",
     "exception": false,
     "start_time": "2021-05-22T11:40:38.957368",
     "status": "completed"
    },
    "tags": []
   },
   "outputs": [
    {
     "name": "stdout",
     "output_type": "stream",
     "text": [
      "-----------Classification Report-----------\n",
      "Confusion Matrix of the decision tree :- \n",
      "               precision    recall  f1-score   support\n",
      "\n",
      "           0       1.00      1.00      1.00     56861\n",
      "           1       0.88      0.73      0.80       101\n",
      "\n",
      "    accuracy                           1.00     56962\n",
      "   macro avg       0.94      0.87      0.90     56962\n",
      "weighted avg       1.00      1.00      1.00     56962\n",
      "\n"
     ]
    }
   ],
   "source": [
    "print('-----------Classification Report-----------')\n",
    "print('Confusion Matrix of the decision tree :- \\n', (classification_report(y_test, tree_pred)))"
   ]
  },
  {
   "cell_type": "markdown",
   "id": "western-picking",
   "metadata": {
    "papermill": {
     "duration": 0.054275,
     "end_time": "2021-05-22T11:40:39.188830",
     "exception": false,
     "start_time": "2021-05-22T11:40:39.134555",
     "status": "completed"
    },
    "tags": []
   },
   "source": [
    "2. KNN"
   ]
  },
  {
   "cell_type": "code",
   "execution_count": 28,
   "id": "global-computer",
   "metadata": {
    "execution": {
     "iopub.execute_input": "2021-05-22T11:40:39.304509Z",
     "iopub.status.busy": "2021-05-22T11:40:39.303850Z",
     "iopub.status.idle": "2021-05-22T11:45:31.785488Z",
     "shell.execute_reply": "2021-05-22T11:45:31.784844Z",
     "shell.execute_reply.started": "2021-05-22T11:30:47.750364Z"
    },
    "papermill": {
     "duration": 292.541718,
     "end_time": "2021-05-22T11:45:31.785676",
     "exception": false,
     "start_time": "2021-05-22T11:40:39.243958",
     "status": "completed"
    },
    "tags": []
   },
   "outputs": [],
   "source": [
    "knn = KNeighborsClassifier(n_neighbors=5)\n",
    "knn.fit(X_train, y_train)\n",
    "knn_pred = knn.predict(X_test)"
   ]
  },
  {
   "cell_type": "code",
   "execution_count": 29,
   "id": "ultimate-converter",
   "metadata": {
    "execution": {
     "iopub.execute_input": "2021-05-22T11:45:31.900802Z",
     "iopub.status.busy": "2021-05-22T11:45:31.900123Z",
     "iopub.status.idle": "2021-05-22T11:45:31.909261Z",
     "shell.execute_reply": "2021-05-22T11:45:31.910009Z",
     "shell.execute_reply.started": "2021-05-22T11:35:22.510303Z"
    },
    "papermill": {
     "duration": 0.06892,
     "end_time": "2021-05-22T11:45:31.910227",
     "exception": false,
     "start_time": "2021-05-22T11:45:31.841307",
     "status": "completed"
    },
    "tags": []
   },
   "outputs": [
    {
     "name": "stdout",
     "output_type": "stream",
     "text": [
      "-----------Accuracy Score-----------\n",
      "Accuracy score of the KNN 0.9995259997893332\n"
     ]
    }
   ],
   "source": [
    "print('-----------Accuracy Score-----------')\n",
    "print('Accuracy score of the KNN', (accuracy_score(y_test, knn_pred)))"
   ]
  },
  {
   "cell_type": "code",
   "execution_count": 30,
   "id": "acute-chamber",
   "metadata": {
    "execution": {
     "iopub.execute_input": "2021-05-22T11:45:32.027867Z",
     "iopub.status.busy": "2021-05-22T11:45:32.027192Z",
     "iopub.status.idle": "2021-05-22T11:45:32.046102Z",
     "shell.execute_reply": "2021-05-22T11:45:32.046565Z",
     "shell.execute_reply.started": "2021-05-22T11:35:22.522891Z"
    },
    "papermill": {
     "duration": 0.081071,
     "end_time": "2021-05-22T11:45:32.046780",
     "exception": false,
     "start_time": "2021-05-22T11:45:31.965709",
     "status": "completed"
    },
    "tags": []
   },
   "outputs": [
    {
     "name": "stdout",
     "output_type": "stream",
     "text": [
      "-----------F1 Score-----------\n",
      "F1 score of the KNN 0.8571428571428572\n"
     ]
    }
   ],
   "source": [
    "print('-----------F1 Score-----------')\n",
    "print('F1 score of the KNN', (f1_score(y_test, knn_pred)))"
   ]
  },
  {
   "cell_type": "code",
   "execution_count": 31,
   "id": "forbidden-specification",
   "metadata": {
    "execution": {
     "iopub.execute_input": "2021-05-22T11:45:32.161645Z",
     "iopub.status.busy": "2021-05-22T11:45:32.160936Z",
     "iopub.status.idle": "2021-05-22T11:45:32.243357Z",
     "shell.execute_reply": "2021-05-22T11:45:32.242787Z",
     "shell.execute_reply.started": "2021-05-22T11:35:22.545661Z"
    },
    "papermill": {
     "duration": 0.140718,
     "end_time": "2021-05-22T11:45:32.243513",
     "exception": false,
     "start_time": "2021-05-22T11:45:32.102795",
     "status": "completed"
    },
    "tags": []
   },
   "outputs": [
    {
     "name": "stdout",
     "output_type": "stream",
     "text": [
      "-----------Confusion Matrix-----------\n",
      "Confusion Matrix of the KNN :- \n",
      " [[56854     7]\n",
      " [   20    81]]\n"
     ]
    }
   ],
   "source": [
    "print('-----------Confusion Matrix-----------')\n",
    "print('Confusion Matrix of the KNN :- \\n', (confusion_matrix(y_test, knn_pred)))"
   ]
  },
  {
   "cell_type": "code",
   "execution_count": 32,
   "id": "stock-accent",
   "metadata": {
    "execution": {
     "iopub.execute_input": "2021-05-22T11:45:32.363095Z",
     "iopub.status.busy": "2021-05-22T11:45:32.362341Z",
     "iopub.status.idle": "2021-05-22T11:45:32.672792Z",
     "shell.execute_reply": "2021-05-22T11:45:32.672120Z",
     "shell.execute_reply.started": "2021-05-22T11:35:22.631468Z"
    },
    "papermill": {
     "duration": 0.373825,
     "end_time": "2021-05-22T11:45:32.672972",
     "exception": false,
     "start_time": "2021-05-22T11:45:32.299147",
     "status": "completed"
    },
    "tags": []
   },
   "outputs": [
    {
     "data": {
      "image/png": "[encoded data removed]",
      "text/plain": [
       "<Figure size 432x288 with 2 Axes>"
      ]
     },
     "metadata": {
      "needs_background": "light"
     },
     "output_type": "display_data"
    }
   ],
   "source": [
    "cm = confusion_matrix(y_test, knn_pred)\n",
    "fig, ax = plt.subplots(figsize=(6,4))\n",
    "sns.heatmap(cm, annot=True)\n",
    "plt.show()"
   ]
  },
  {
   "cell_type": "code",
   "execution_count": 33,
   "id": "formal-brother",
   "metadata": {
    "execution": {
     "iopub.execute_input": "2021-05-22T11:45:32.792106Z",
     "iopub.status.busy": "2021-05-22T11:45:32.791412Z",
     "iopub.status.idle": "2021-05-22T11:45:32.857696Z",
     "shell.execute_reply": "2021-05-22T11:45:32.858751Z",
     "shell.execute_reply.started": "2021-05-22T11:35:22.919848Z"
    },
    "papermill": {
     "duration": 0.129507,
     "end_time": "2021-05-22T11:45:32.859025",
     "exception": false,
     "start_time": "2021-05-22T11:45:32.729518",
     "status": "completed"
    },
    "tags": []
   },
   "outputs": [
    {
     "name": "stdout",
     "output_type": "stream",
     "text": [
      "-----------Classification Report-----------\n",
      "Confusion Matrix of the KNN :- \n",
      "               precision    recall  f1-score   support\n",
      "\n",
      "           0       1.00      1.00      1.00     56861\n",
      "           1       0.92      0.80      0.86       101\n",
      "\n",
      "    accuracy                           1.00     56962\n",
      "   macro avg       0.96      0.90      0.93     56962\n",
      "weighted avg       1.00      1.00      1.00     56962\n",
      "\n"
     ]
    }
   ],
   "source": [
    "print('-----------Classification Report-----------')\n",
    "print('Confusion Matrix of the KNN :- \\n', (classification_report(y_test, knn_pred)))"
   ]
  },
  {
   "cell_type": "markdown",
   "id": "earlier-cisco",
   "metadata": {
    "papermill": {
     "duration": 0.057339,
     "end_time": "2021-05-22T11:45:32.973742",
     "exception": false,
     "start_time": "2021-05-22T11:45:32.916403",
     "status": "completed"
    },
    "tags": []
   },
   "source": [
    "3. Logistic Regression"
   ]
  },
  {
   "cell_type": "code",
   "execution_count": 34,
   "id": "retained-update",
   "metadata": {
    "execution": {
     "iopub.execute_input": "2021-05-22T11:45:33.095994Z",
     "iopub.status.busy": "2021-05-22T11:45:33.095312Z",
     "iopub.status.idle": "2021-05-22T11:45:36.963719Z",
     "shell.execute_reply": "2021-05-22T11:45:36.964683Z",
     "shell.execute_reply.started": "2021-05-22T11:35:22.985068Z"
    },
    "papermill": {
     "duration": 3.93435,
     "end_time": "2021-05-22T11:45:36.965028",
     "exception": false,
     "start_time": "2021-05-22T11:45:33.030678",
     "status": "completed"
    },
    "tags": []
   },
   "outputs": [],
   "source": [
    "lr = LogisticRegression()\n",
    "lr.fit(X_train, y_train)\n",
    "lr_pred = lr.predict(X_test)"
   ]
  },
  {
   "cell_type": "code",
   "execution_count": 35,
   "id": "comic-marketplace",
   "metadata": {
    "execution": {
     "iopub.execute_input": "2021-05-22T11:45:37.139162Z",
     "iopub.status.busy": "2021-05-22T11:45:37.138482Z",
     "iopub.status.idle": "2021-05-22T11:45:37.146805Z",
     "shell.execute_reply": "2021-05-22T11:45:37.147333Z",
     "shell.execute_reply.started": "2021-05-22T11:35:26.120474Z"
    },
    "papermill": {
     "duration": 0.076586,
     "end_time": "2021-05-22T11:45:37.147558",
     "exception": false,
     "start_time": "2021-05-22T11:45:37.070972",
     "status": "completed"
    },
    "tags": []
   },
   "outputs": [
    {
     "name": "stdout",
     "output_type": "stream",
     "text": [
      "-----------Accuracy Score-----------\n",
      "Accuracy score of the Logistic Regression 0.9991924440855307\n"
     ]
    }
   ],
   "source": [
    "print('-----------Accuracy Score-----------')\n",
    "print('Accuracy score of the Logistic Regression', (accuracy_score(y_test, lr_pred)))"
   ]
  },
  {
   "cell_type": "code",
   "execution_count": 36,
   "id": "occupational-census",
   "metadata": {
    "execution": {
     "iopub.execute_input": "2021-05-22T11:45:37.271230Z",
     "iopub.status.busy": "2021-05-22T11:45:37.269755Z",
     "iopub.status.idle": "2021-05-22T11:45:37.289976Z",
     "shell.execute_reply": "2021-05-22T11:45:37.290494Z",
     "shell.execute_reply.started": "2021-05-22T11:35:26.135485Z"
    },
    "papermill": {
     "duration": 0.084223,
     "end_time": "2021-05-22T11:45:37.290740",
     "exception": false,
     "start_time": "2021-05-22T11:45:37.206517",
     "status": "completed"
    },
    "tags": []
   },
   "outputs": [
    {
     "name": "stdout",
     "output_type": "stream",
     "text": [
      "-----------F1 Score-----------\n",
      "F1 score of the logistic regression 0.7356321839080459\n"
     ]
    }
   ],
   "source": [
    "print('-----------F1 Score-----------')\n",
    "print('F1 score of the logistic regression', (f1_score(y_test, lr_pred)))"
   ]
  },
  {
   "cell_type": "code",
   "execution_count": 37,
   "id": "missing-bryan",
   "metadata": {
    "execution": {
     "iopub.execute_input": "2021-05-22T11:45:37.415118Z",
     "iopub.status.busy": "2021-05-22T11:45:37.413633Z",
     "iopub.status.idle": "2021-05-22T11:45:37.495844Z",
     "shell.execute_reply": "2021-05-22T11:45:37.495235Z",
     "shell.execute_reply.started": "2021-05-22T11:35:26.170724Z"
    },
    "papermill": {
     "duration": 0.146431,
     "end_time": "2021-05-22T11:45:37.496026",
     "exception": false,
     "start_time": "2021-05-22T11:45:37.349595",
     "status": "completed"
    },
    "tags": []
   },
   "outputs": [
    {
     "name": "stdout",
     "output_type": "stream",
     "text": [
      "-----------Confusion Matrix-----------\n",
      "Confusion Matrix of the logistic regression :- \n",
      " [[56852     9]\n",
      " [   37    64]]\n"
     ]
    }
   ],
   "source": [
    "print('-----------Confusion Matrix-----------')\n",
    "print('Confusion Matrix of the logistic regression :- \\n', (confusion_matrix(y_test, lr_pred)))"
   ]
  },
  {
   "cell_type": "code",
   "execution_count": 38,
   "id": "acceptable-piece",
   "metadata": {
    "execution": {
     "iopub.execute_input": "2021-05-22T11:45:37.621947Z",
     "iopub.status.busy": "2021-05-22T11:45:37.620348Z",
     "iopub.status.idle": "2021-05-22T11:45:37.921006Z",
     "shell.execute_reply": "2021-05-22T11:45:37.920283Z",
     "shell.execute_reply.started": "2021-05-22T11:35:26.281953Z"
    },
    "papermill": {
     "duration": 0.366133,
     "end_time": "2021-05-22T11:45:37.921161",
     "exception": false,
     "start_time": "2021-05-22T11:45:37.555028",
     "status": "completed"
    },
    "tags": []
   },
   "outputs": [
    {
     "data": {
      "image/png": "[encoded data removed]",
      "text/plain": [
       "<Figure size 432x288 with 2 Axes>"
      ]
     },
     "metadata": {
      "needs_background": "light"
     },
     "output_type": "display_data"
    }
   ],
   "source": [
    "cm = confusion_matrix(y_test, lr_pred)\n",
    "fig, ax = plt.subplots(figsize=(6,4))\n",
    "sns.heatmap(cm, annot=True)\n",
    "plt.show()"
   ]
  },
  {
   "cell_type": "code",
   "execution_count": 39,
   "id": "selected-terminology",
   "metadata": {
    "execution": {
     "iopub.execute_input": "2021-05-22T11:45:38.044825Z",
     "iopub.status.busy": "2021-05-22T11:45:38.043637Z",
     "iopub.status.idle": "2021-05-22T11:45:38.105439Z",
     "shell.execute_reply": "2021-05-22T11:45:38.104751Z",
     "shell.execute_reply.started": "2021-05-22T11:35:26.568610Z"
    },
    "papermill": {
     "duration": 0.125727,
     "end_time": "2021-05-22T11:45:38.105597",
     "exception": false,
     "start_time": "2021-05-22T11:45:37.979870",
     "status": "completed"
    },
    "tags": []
   },
   "outputs": [
    {
     "name": "stdout",
     "output_type": "stream",
     "text": [
      "-----------Classification Report-----------\n",
      "Confusion Matrix of the logistic regression :- \n",
      "               precision    recall  f1-score   support\n",
      "\n",
      "           0       1.00      1.00      1.00     56861\n",
      "           1       0.88      0.63      0.74       101\n",
      "\n",
      "    accuracy                           1.00     56962\n",
      "   macro avg       0.94      0.82      0.87     56962\n",
      "weighted avg       1.00      1.00      1.00     56962\n",
      "\n"
     ]
    }
   ],
   "source": [
    "print('-----------Classification Report-----------')\n",
    "print('Confusion Matrix of the logistic regression :- \\n', (classification_report(y_test, lr_pred)))"
   ]
  },
  {
   "cell_type": "code",
   "execution_count": 40,
   "id": "according-train",
   "metadata": {
    "execution": {
     "iopub.execute_input": "2021-05-22T11:45:38.232460Z",
     "iopub.status.busy": "2021-05-22T11:45:38.231122Z",
     "iopub.status.idle": "2021-05-22T11:49:59.784185Z",
     "shell.execute_reply": "2021-05-22T11:49:59.783559Z",
     "shell.execute_reply.started": "2021-05-22T11:35:26.632147Z"
    },
    "papermill": {
     "duration": 261.618407,
     "end_time": "2021-05-22T11:49:59.784386",
     "exception": false,
     "start_time": "2021-05-22T11:45:38.165979",
     "status": "completed"
    },
    "tags": []
   },
   "outputs": [],
   "source": [
    "rf = RandomForestClassifier()\n",
    "rf.fit(X_train, y_train)\n",
    "rf_pred = rf.predict(X_test)"
   ]
  },
  {
   "cell_type": "code",
   "execution_count": 41,
   "id": "domestic-ministry",
   "metadata": {
    "execution": {
     "iopub.execute_input": "2021-05-22T11:49:59.909717Z",
     "iopub.status.busy": "2021-05-22T11:49:59.908976Z",
     "iopub.status.idle": "2021-05-22T11:49:59.919436Z",
     "shell.execute_reply": "2021-05-22T11:49:59.918447Z",
     "shell.execute_reply.started": "2021-05-22T11:39:29.223597Z"
    },
    "papermill": {
     "duration": 0.074954,
     "end_time": "2021-05-22T11:49:59.919662",
     "exception": false,
     "start_time": "2021-05-22T11:49:59.844708",
     "status": "completed"
    },
    "tags": []
   },
   "outputs": [
    {
     "name": "stdout",
     "output_type": "stream",
     "text": [
      "-----------Accuracy Score-----------\n",
      "Accuracy score of the Random Forest 0.9994908886626171\n"
     ]
    }
   ],
   "source": [
    "print('-----------Accuracy Score-----------')\n",
    "print('Accuracy score of the Random Forest', (accuracy_score(y_test, rf_pred)))"
   ]
  },
  {
   "cell_type": "code",
   "execution_count": 42,
   "id": "noble-fourth",
   "metadata": {
    "execution": {
     "iopub.execute_input": "2021-05-22T11:50:00.046893Z",
     "iopub.status.busy": "2021-05-22T11:50:00.046230Z",
     "iopub.status.idle": "2021-05-22T11:50:00.066061Z",
     "shell.execute_reply": "2021-05-22T11:50:00.066549Z",
     "shell.execute_reply.started": "2021-05-22T11:39:29.235527Z"
    },
    "papermill": {
     "duration": 0.085711,
     "end_time": "2021-05-22T11:50:00.066771",
     "exception": false,
     "start_time": "2021-05-22T11:49:59.981060",
     "status": "completed"
    },
    "tags": []
   },
   "outputs": [
    {
     "name": "stdout",
     "output_type": "stream",
     "text": [
      "-----------F1 Score-----------\n",
      "F1 score of the random forest 0.8449197860962566\n"
     ]
    }
   ],
   "source": [
    "print('-----------F1 Score-----------')\n",
    "print('F1 score of the random forest', (f1_score(y_test, rf_pred)))"
   ]
  },
  {
   "cell_type": "code",
   "execution_count": 43,
   "id": "bronze-serial",
   "metadata": {
    "execution": {
     "iopub.execute_input": "2021-05-22T11:50:00.193537Z",
     "iopub.status.busy": "2021-05-22T11:50:00.192833Z",
     "iopub.status.idle": "2021-05-22T11:50:00.273733Z",
     "shell.execute_reply": "2021-05-22T11:50:00.272660Z",
     "shell.execute_reply.started": "2021-05-22T11:39:29.262156Z"
    },
    "papermill": {
     "duration": 0.145954,
     "end_time": "2021-05-22T11:50:00.273957",
     "exception": false,
     "start_time": "2021-05-22T11:50:00.128003",
     "status": "completed"
    },
    "tags": []
   },
   "outputs": [
    {
     "name": "stdout",
     "output_type": "stream",
     "text": [
      "-----------Confusion Matrix-----------\n",
      "Confusion Matrix of the random forest :- \n",
      " [[56854     7]\n",
      " [   22    79]]\n"
     ]
    }
   ],
   "source": [
    "print('-----------Confusion Matrix-----------')\n",
    "print('Confusion Matrix of the random forest :- \\n', (confusion_matrix(y_test, rf_pred)))"
   ]
  },
  {
   "cell_type": "code",
   "execution_count": 44,
   "id": "indian-pregnancy",
   "metadata": {
    "execution": {
     "iopub.execute_input": "2021-05-22T11:50:00.401172Z",
     "iopub.status.busy": "2021-05-22T11:50:00.400431Z",
     "iopub.status.idle": "2021-05-22T11:50:00.461916Z",
     "shell.execute_reply": "2021-05-22T11:50:00.461021Z",
     "shell.execute_reply.started": "2021-05-22T11:39:29.346224Z"
    },
    "papermill": {
     "duration": 0.12746,
     "end_time": "2021-05-22T11:50:00.462261",
     "exception": false,
     "start_time": "2021-05-22T11:50:00.334801",
     "status": "completed"
    },
    "tags": []
   },
   "outputs": [
    {
     "name": "stdout",
     "output_type": "stream",
     "text": [
      "-----------Classification Report-----------\n",
      "Confusion Matrix of the random forest :- \n",
      "               precision    recall  f1-score   support\n",
      "\n",
      "           0       1.00      1.00      1.00     56861\n",
      "           1       0.92      0.78      0.84       101\n",
      "\n",
      "    accuracy                           1.00     56962\n",
      "   macro avg       0.96      0.89      0.92     56962\n",
      "weighted avg       1.00      1.00      1.00     56962\n",
      "\n"
     ]
    }
   ],
   "source": [
    "print('-----------Classification Report-----------')\n",
    "print('Confusion Matrix of the random forest :- \\n', (classification_report(y_test, rf_pred)))"
   ]
  },
  {
   "cell_type": "markdown",
   "id": "historical-samuel",
   "metadata": {
    "papermill": {
     "duration": 0.059981,
     "end_time": "2021-05-22T11:50:00.583586",
     "exception": false,
     "start_time": "2021-05-22T11:50:00.523605",
     "status": "completed"
    },
    "tags": []
   },
   "source": [
    "## ROC - AUC Curve"
   ]
  },
  {
   "cell_type": "code",
   "execution_count": 45,
   "id": "legendary-verse",
   "metadata": {
    "execution": {
     "iopub.execute_input": "2021-05-22T11:50:00.711875Z",
     "iopub.status.busy": "2021-05-22T11:50:00.711169Z",
     "iopub.status.idle": "2021-05-22T11:50:00.713323Z",
     "shell.execute_reply": "2021-05-22T11:50:00.713778Z",
     "shell.execute_reply.started": "2021-05-22T11:39:29.413139Z"
    },
    "papermill": {
     "duration": 0.06851,
     "end_time": "2021-05-22T11:50:00.714005",
     "exception": false,
     "start_time": "2021-05-22T11:50:00.645495",
     "status": "completed"
    },
    "tags": []
   },
   "outputs": [],
   "source": [
    "from sklearn.metrics import roc_auc_score, roc_curve"
   ]
  },
  {
   "cell_type": "markdown",
   "id": "silver-farming",
   "metadata": {
    "papermill": {
     "duration": 0.060974,
     "end_time": "2021-05-22T11:50:00.836630",
     "exception": false,
     "start_time": "2021-05-22T11:50:00.775656",
     "status": "completed"
    },
    "tags": []
   },
   "source": [
    "1. Decision Tree"
   ]
  },
  {
   "cell_type": "code",
   "execution_count": 46,
   "id": "cellular-moral",
   "metadata": {
    "execution": {
     "iopub.execute_input": "2021-05-22T11:50:00.964379Z",
     "iopub.status.busy": "2021-05-22T11:50:00.963693Z",
     "iopub.status.idle": "2021-05-22T11:50:00.976069Z",
     "shell.execute_reply": "2021-05-22T11:50:00.976581Z",
     "shell.execute_reply.started": "2021-05-22T11:39:29.419118Z"
    },
    "papermill": {
     "duration": 0.078655,
     "end_time": "2021-05-22T11:50:00.976818",
     "exception": false,
     "start_time": "2021-05-22T11:50:00.898163",
     "status": "completed"
    },
    "tags": []
   },
   "outputs": [],
   "source": [
    "score = roc_auc_score(y_test, tree_pred)"
   ]
  },
  {
   "cell_type": "code",
   "execution_count": 47,
   "id": "imperial-major",
   "metadata": {
    "execution": {
     "iopub.execute_input": "2021-05-22T11:50:01.103715Z",
     "iopub.status.busy": "2021-05-22T11:50:01.103037Z",
     "iopub.status.idle": "2021-05-22T11:50:01.110042Z",
     "shell.execute_reply": "2021-05-22T11:50:01.109469Z",
     "shell.execute_reply.started": "2021-05-22T11:39:29.441112Z"
    },
    "papermill": {
     "duration": 0.071861,
     "end_time": "2021-05-22T11:50:01.110209",
     "exception": false,
     "start_time": "2021-05-22T11:50:01.038348",
     "status": "completed"
    },
    "tags": []
   },
   "outputs": [
    {
     "name": "stdout",
     "output_type": "stream",
     "text": [
      "ROC-AUC Score is:- 0.8662486999302276\n"
     ]
    }
   ],
   "source": [
    "print('ROC-AUC Score is:-', score)"
   ]
  },
  {
   "cell_type": "code",
   "execution_count": 48,
   "id": "accompanied-moscow",
   "metadata": {
    "execution": {
     "iopub.execute_input": "2021-05-22T11:50:01.239962Z",
     "iopub.status.busy": "2021-05-22T11:50:01.238851Z",
     "iopub.status.idle": "2021-05-22T11:50:01.246946Z",
     "shell.execute_reply": "2021-05-22T11:50:01.246293Z",
     "shell.execute_reply.started": "2021-05-22T11:39:29.448594Z"
    },
    "papermill": {
     "duration": 0.074962,
     "end_time": "2021-05-22T11:50:01.247123",
     "exception": false,
     "start_time": "2021-05-22T11:50:01.172161",
     "status": "completed"
    },
    "tags": []
   },
   "outputs": [],
   "source": [
    "fpr, tpr, thresholds = roc_curve(y_test, tree_pred)"
   ]
  },
  {
   "cell_type": "code",
   "execution_count": 49,
   "id": "closing-contractor",
   "metadata": {
    "execution": {
     "iopub.execute_input": "2021-05-22T11:50:01.427361Z",
     "iopub.status.busy": "2021-05-22T11:50:01.389079Z",
     "iopub.status.idle": "2021-05-22T11:50:01.533314Z",
     "shell.execute_reply": "2021-05-22T11:50:01.532657Z",
     "shell.execute_reply.started": "2021-05-22T11:39:29.464689Z"
    },
    "papermill": {
     "duration": 0.224181,
     "end_time": "2021-05-22T11:50:01.533469",
     "exception": false,
     "start_time": "2021-05-22T11:50:01.309288",
     "status": "completed"
    },
    "tags": []
   },
   "outputs": [
    {
     "data": {
      "image/png": "[encoded data removed]",
      "text/plain": [
       "<Figure size 432x288 with 1 Axes>"
      ]
     },
     "metadata": {
      "needs_background": "light"
     },
     "output_type": "display_data"
    }
   ],
   "source": [
    "plt.plot(fpr, tpr, label='ROC Curve (area=%0.2f)' % score)\n",
    "plt.plot([0,1], [0,1], 'k--')\n",
    "plt.legend()\n",
    "plt.show()"
   ]
  },
  {
   "cell_type": "markdown",
   "id": "native-hawaii",
   "metadata": {
    "papermill": {
     "duration": 0.061713,
     "end_time": "2021-05-22T11:50:01.657019",
     "exception": false,
     "start_time": "2021-05-22T11:50:01.595306",
     "status": "completed"
    },
    "tags": []
   },
   "source": [
    "2. Random Forest"
   ]
  },
  {
   "cell_type": "code",
   "execution_count": 50,
   "id": "turned-syntax",
   "metadata": {
    "execution": {
     "iopub.execute_input": "2021-05-22T11:50:01.785401Z",
     "iopub.status.busy": "2021-05-22T11:50:01.784512Z",
     "iopub.status.idle": "2021-05-22T11:50:01.797118Z",
     "shell.execute_reply": "2021-05-22T11:50:01.796544Z",
     "shell.execute_reply.started": "2021-05-22T11:39:29.640587Z"
    },
    "papermill": {
     "duration": 0.078463,
     "end_time": "2021-05-22T11:50:01.797260",
     "exception": false,
     "start_time": "2021-05-22T11:50:01.718797",
     "status": "completed"
    },
    "tags": []
   },
   "outputs": [],
   "source": [
    "rf_score = roc_auc_score(y_test, rf_pred)"
   ]
  },
  {
   "cell_type": "code",
   "execution_count": 51,
   "id": "handy-walker",
   "metadata": {
    "execution": {
     "iopub.execute_input": "2021-05-22T11:50:01.926617Z",
     "iopub.status.busy": "2021-05-22T11:50:01.925684Z",
     "iopub.status.idle": "2021-05-22T11:50:01.930347Z",
     "shell.execute_reply": "2021-05-22T11:50:01.930795Z",
     "shell.execute_reply.started": "2021-05-22T11:39:29.656978Z"
    },
    "papermill": {
     "duration": 0.072245,
     "end_time": "2021-05-22T11:50:01.930992",
     "exception": false,
     "start_time": "2021-05-22T11:50:01.858747",
     "status": "completed"
    },
    "tags": []
   },
   "outputs": [
    {
     "name": "stdout",
     "output_type": "stream",
     "text": [
      "ROC-AUC Score is:- 0.891027555297694\n"
     ]
    }
   ],
   "source": [
    "print('ROC-AUC Score is:-', rf_score)"
   ]
  },
  {
   "cell_type": "code",
   "execution_count": 52,
   "id": "handled-capital",
   "metadata": {
    "execution": {
     "iopub.execute_input": "2021-05-22T11:50:02.062626Z",
     "iopub.status.busy": "2021-05-22T11:50:02.061660Z",
     "iopub.status.idle": "2021-05-22T11:50:02.069447Z",
     "shell.execute_reply": "2021-05-22T11:50:02.068792Z",
     "shell.execute_reply.started": "2021-05-22T11:39:29.667687Z"
    },
    "papermill": {
     "duration": 0.076192,
     "end_time": "2021-05-22T11:50:02.069605",
     "exception": false,
     "start_time": "2021-05-22T11:50:01.993413",
     "status": "completed"
    },
    "tags": []
   },
   "outputs": [],
   "source": [
    "fpr, tpr, thresholds = roc_curve(y_test, rf_pred)"
   ]
  },
  {
   "cell_type": "code",
   "execution_count": 53,
   "id": "colonial-framing",
   "metadata": {
    "execution": {
     "iopub.execute_input": "2021-05-22T11:50:02.248581Z",
     "iopub.status.busy": "2021-05-22T11:50:02.219705Z",
     "iopub.status.idle": "2021-05-22T11:50:02.348652Z",
     "shell.execute_reply": "2021-05-22T11:50:02.348127Z",
     "shell.execute_reply.started": "2021-05-22T11:39:29.679168Z"
    },
    "papermill": {
     "duration": 0.215687,
     "end_time": "2021-05-22T11:50:02.348802",
     "exception": false,
     "start_time": "2021-05-22T11:50:02.133115",
     "status": "completed"
    },
    "tags": []
   },
   "outputs": [
    {
     "data": {
      "image/png": "[encoded data removed]",
      "text/plain": [
       "<Figure size 432x288 with 1 Axes>"
      ]
     },
     "metadata": {
      "needs_background": "light"
     },
     "output_type": "display_data"
    }
   ],
   "source": [
    "plt.plot(fpr, tpr, label='ROC Curve (area=%0.2f)' % rf_score)\n",
    "plt.plot([0,1], [0,1], 'k--')\n",
    "plt.legend()\n",
    "plt.show()"
   ]
  },
  {
   "cell_type": "code",
   "execution_count": null,
   "id": "abandoned-allergy",
   "metadata": {
    "papermill": {
     "duration": 0.063354,
     "end_time": "2021-05-22T11:50:02.475368",
     "exception": false,
     "start_time": "2021-05-22T11:50:02.412014",
     "status": "completed"
    },
    "tags": []
   },
   "outputs": [],
   "source": []
  }
 ],
 "metadata": {
  "kernelspec": {
   "display_name": "Python 3",
   "language": "python",
   "name": "python3"
  },
  "language_info": {
   "codemirror_mode": {
    "name": "ipython",
    "version": 3
   },
   "file_extension": ".py",
   "mimetype": "text/x-python",
   "name": "python",
   "nbconvert_exporter": "python",
   "pygments_lexer": "ipython3",
   "version": "3.7.9"
  },
  "papermill": {
   "default_parameters": {},
   "duration": 590.054201,
   "end_time": "2021-05-22T11:50:03.249364",
   "environment_variables": {},
   "exception": null,
   "input_path": "__notebook__.ipynb",
   "output_path": "__notebook__.ipynb",
   "parameters": {},
   "start_time": "2021-05-22T11:40:13.195163",
   "version": "2.3.2"
  }
 },
 "nbformat": 4,
 "nbformat_minor": 5
}
